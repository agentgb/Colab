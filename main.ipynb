{
 "cells": [
  {
   "attachments": {},
   "cell_type": "markdown",
   "metadata": {},
   "source": [
    "## 初始化"
   ]
  },
  {
   "cell_type": "code",
   "execution_count": null,
   "metadata": {},
   "outputs": [],
   "source": [
    "import os\n",
    "\n",
    "os.environ[\"OPENAI_API_KEY\"] = \"\"\n",
    "\n",
    "root_dir = os.getcwd()\n",
    "html_dir = os.path.join(root_dir, \"html\")\n",
    "txt_dir = os.path.join(root_dir, \"txt\")\n",
    "db_dir = os.path.join(root_dir, \"db\")\n"
   ]
  },
  {
   "attachments": {},
   "cell_type": "markdown",
   "metadata": {},
   "source": [
    "## 从 html 中提取 txt"
   ]
  },
  {
   "attachments": {},
   "cell_type": "markdown",
   "metadata": {},
   "source": [
    "### 函数声明"
   ]
  },
  {
   "cell_type": "code",
   "execution_count": null,
   "metadata": {},
   "outputs": [],
   "source": [
    "from langchain.document_loaders import UnstructuredHTMLLoader\n",
    "\n",
    "\n",
    "def getFiles(directory, ext):\n",
    "    files = os.listdir(directory)\n",
    "    files = [f.split(\".\")[0] for f in files if os.path.splitext(f)[1] == ext]\n",
    "    return files\n",
    "\n",
    "\n",
    "def convHtmlToTxt(src, dest, files):\n",
    "    for file in files:\n",
    "        loader = UnstructuredHTMLLoader(os.path.join(src, f\"{file}.html\"))\n",
    "        data = loader.load()\n",
    "\n",
    "        cut_file = os.path.join(dest, f\"{file}.txt\")\n",
    "        with open(cut_file, \"w\") as f:\n",
    "            content = data[0].page_content\n",
    "            f.write(content)\n"
   ]
  },
  {
   "attachments": {},
   "cell_type": "markdown",
   "metadata": {},
   "source": [
    "### 执行转换操作"
   ]
  },
  {
   "cell_type": "code",
   "execution_count": null,
   "metadata": {},
   "outputs": [],
   "source": [
    "files = getFiles(html_dir, \".html\")\n",
    "convHtmlToTxt(html_dir, txt_dir, files)\n"
   ]
  },
  {
   "attachments": {},
   "cell_type": "markdown",
   "metadata": {},
   "source": [
    "## 提取向量数据"
   ]
  },
  {
   "attachments": {},
   "cell_type": "markdown",
   "metadata": {},
   "source": [
    "### 函数声明"
   ]
  },
  {
   "cell_type": "code",
   "execution_count": null,
   "metadata": {},
   "outputs": [],
   "source": [
    "from langchain.document_loaders import DirectoryLoader\n",
    "from langchain.text_splitter import CharacterTextSplitter\n",
    "\n",
    "\n",
    "def getDocumentsOnCharacterTextSplitter(src, chunk_size):\n",
    "    loader = DirectoryLoader(src, glob=\"**/*.txt\")\n",
    "    documents = loader.load()\n",
    "\n",
    "    text_splitter = CharacterTextSplitter.from_tiktoken_encoder(\n",
    "        chunk_size=chunk_size,\n",
    "        chunk_overlap=0,\n",
    "    )\n",
    "    return text_splitter.split_documents(documents)\n"
   ]
  },
  {
   "attachments": {},
   "cell_type": "markdown",
   "metadata": {},
   "source": [
    "### 提取向量数据"
   ]
  },
  {
   "cell_type": "code",
   "execution_count": null,
   "metadata": {},
   "outputs": [],
   "source": [
    "# 此步骤需要消耗 OpenAI API 的 token\n",
    "texts = getDocumentsOnCharacterTextSplitter(txt_dir, 512)\n"
   ]
  },
  {
   "attachments": {},
   "cell_type": "markdown",
   "metadata": {},
   "source": [
    "## 持久化向量数据"
   ]
  },
  {
   "attachments": {},
   "cell_type": "markdown",
   "metadata": {},
   "source": [
    "### 函数声明"
   ]
  },
  {
   "cell_type": "code",
   "execution_count": null,
   "metadata": {},
   "outputs": [],
   "source": [
    "import os\n",
    "from langchain.embeddings.openai import OpenAIEmbeddings\n",
    "from langchain.vectorstores import Chroma\n",
    "\n",
    "embeddings = OpenAIEmbeddings(openai_api_key=os.environ[\"OPENAI_API_KEY\"])\n",
    "\n",
    "\n",
    "def createDb(documents, persist_directory):\n",
    "    db = Chroma.from_documents(\n",
    "        documents=documents, embedding=embeddings, persist_directory=persist_directory\n",
    "    )\n",
    "    db.persist()\n"
   ]
  },
  {
   "attachments": {},
   "cell_type": "markdown",
   "metadata": {},
   "source": [
    "### 数据持久化，需要消耗 token，确保网络可以访问 OpenAI 的 API，大概花费 1.5 美金，耗时 2 分钟左右，确保账户中余额充足"
   ]
  },
  {
   "cell_type": "code",
   "execution_count": null,
   "metadata": {},
   "outputs": [],
   "source": [
    "createDb(texts, db_dir)\n"
   ]
  },
  {
   "attachments": {},
   "cell_type": "markdown",
   "metadata": {},
   "source": [
    "## 查询"
   ]
  },
  {
   "attachments": {},
   "cell_type": "markdown",
   "metadata": {},
   "source": [
    "### 函数声明"
   ]
  },
  {
   "cell_type": "code",
   "execution_count": null,
   "metadata": {},
   "outputs": [],
   "source": [
    "import os\n",
    "from langchain.embeddings.openai import OpenAIEmbeddings\n",
    "from langchain.vectorstores import Chroma\n",
    "\n",
    "embeddings = OpenAIEmbeddings(openai_api_key=os.environ[\"OPENAI_API_KEY\"])\n",
    "\n",
    "\n",
    "def getDb(persist_directory):\n",
    "    return Chroma(persist_directory=persist_directory, embedding_function=embeddings)\n"
   ]
  },
  {
   "attachments": {},
   "cell_type": "markdown",
   "metadata": {},
   "source": [
    "### 加载向量数据库"
   ]
  },
  {
   "cell_type": "code",
   "execution_count": null,
   "metadata": {},
   "outputs": [],
   "source": [
    "db = getDb(db_dir)\n"
   ]
  },
  {
   "attachments": {},
   "cell_type": "markdown",
   "metadata": {},
   "source": [
    "### 查询向量数据"
   ]
  },
  {
   "cell_type": "code",
   "execution_count": null,
   "metadata": {},
   "outputs": [],
   "source": [
    "query = \"如何优化数据库\"\n",
    "docs = db.similarity_search(query, k=4)\n"
   ]
  },
  {
   "attachments": {},
   "cell_type": "markdown",
   "metadata": {},
   "source": [
    "### 显示查询结果"
   ]
  },
  {
   "cell_type": "code",
   "execution_count": null,
   "metadata": {},
   "outputs": [],
   "source": [
    "import json\n",
    "\n",
    "doc_list = [doc.page_content for doc in docs]\n",
    "print(json.dumps(doc_list, ensure_ascii=False, indent=4))\n"
   ]
  },
  {
   "attachments": {},
   "cell_type": "markdown",
   "metadata": {},
   "source": [
    "### 函数声明"
   ]
  },
  {
   "cell_type": "code",
   "execution_count": null,
   "metadata": {},
   "outputs": [],
   "source": [
    "from langchain.chains.qa_with_sources import load_qa_with_sources_chain\n",
    "from langchain.chat_models import ChatOpenAI\n",
    "\n",
    "\n",
    "def getChain(temperature, chain_type):\n",
    "    return load_qa_with_sources_chain(\n",
    "        ChatOpenAI(model_name=\"gpt-3.5-turbo\", temperature=temperature, streaming=True),\n",
    "        chain_type=chain_type,\n",
    "    )\n"
   ]
  },
  {
   "attachments": {},
   "cell_type": "markdown",
   "metadata": {},
   "source": [
    "### 初始化 chain"
   ]
  },
  {
   "cell_type": "code",
   "execution_count": null,
   "metadata": {},
   "outputs": [],
   "source": [
    "chain = getChain(0, \"refine\")\n",
    "# 参数说明参见 https://www.youtube.com/watch?v=f9_BWhCI4Zo\n"
   ]
  },
  {
   "attachments": {},
   "cell_type": "markdown",
   "metadata": {},
   "source": [
    "### 调用 chatgpt 查询，鉴于 chatgpt 模型的特点，每次查询的结果可能会有很大的区别，一次查询结果不理想可以多查询几次"
   ]
  },
  {
   "cell_type": "code",
   "execution_count": null,
   "metadata": {},
   "outputs": [],
   "source": [
    "import time\n",
    "\n",
    "start_time = time.time()\n",
    "print(f\"开始回答 {query}\")\n",
    "chains = chain(\n",
    "    {\"input_documents\": docs, \"question\": f'用中文回答:\"{query}\"'},\n",
    "    return_only_outputs=False,\n",
    ")\n",
    "print(f\"回答完成,用时 {time.time()-start_time:.2f} 秒\")\n"
   ]
  },
  {
   "attachments": {},
   "cell_type": "markdown",
   "metadata": {},
   "source": [
    "### 显示查询结果"
   ]
  },
  {
   "cell_type": "code",
   "execution_count": null,
   "metadata": {},
   "outputs": [],
   "source": [
    "inputs = chains[\"input_documents\"]\n",
    "input_documents = [input.page_content for input in inputs]\n",
    "output_text = chains[\"output_text\"]\n",
    "print(json.dumps(input_documents, indent=4, ensure_ascii=False))\n",
    "print(json.dumps(output_text, indent=4, ensure_ascii=False))\n"
   ]
  }
 ],
 "metadata": {
  "kernelspec": {
   "display_name": "3.11-langchain",
   "language": "python",
   "name": "python3"
  },
  "language_info": {
   "codemirror_mode": {
    "name": "ipython",
    "version": 3
   },
   "file_extension": ".py",
   "mimetype": "text/x-python",
   "name": "python",
   "nbconvert_exporter": "python",
   "pygments_lexer": "ipython3",
   "version": "3.10.10"
  },
  "orig_nbformat": 4
 },
 "nbformat": 4,
 "nbformat_minor": 2
}
